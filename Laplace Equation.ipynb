{
 "cells": [
  {
   "cell_type": "code",
   "execution_count": 1,
   "metadata": {},
   "outputs": [],
   "source": [
    "# This is a hack-fix for this machine to make ImageMagick available for the animate command below.\n",
    "# os.environ[\"PATH\"]+=\":/usr/local/bin\""
   ]
  },
  {
   "cell_type": "code",
   "execution_count": 2,
   "metadata": {},
   "outputs": [],
   "source": [
    "import numpy"
   ]
  },
  {
   "cell_type": "code",
   "execution_count": 3,
   "metadata": {},
   "outputs": [],
   "source": [
    "# Set up a grid with size (30,30)"
   ]
  },
  {
   "cell_type": "code",
   "execution_count": 4,
   "metadata": {},
   "outputs": [],
   "source": [
    "GridSize=[30,30]"
   ]
  },
  {
   "cell_type": "code",
   "execution_count": 5,
   "metadata": {},
   "outputs": [],
   "source": [
    "# Set up the current and the next grid for computation (i.e., the values of the solution u)"
   ]
  },
  {
   "cell_type": "code",
   "execution_count": 6,
   "metadata": {},
   "outputs": [],
   "source": [
    "u_current=numpy.zeros((GridSize[0]+1, GridSize[1]+1))"
   ]
  },
  {
   "cell_type": "code",
   "execution_count": 7,
   "metadata": {},
   "outputs": [],
   "source": [
    "u_next=numpy.zeros((GridSize[0]+1, GridSize[1]+1))"
   ]
  },
  {
   "cell_type": "code",
   "execution_count": 8,
   "metadata": {},
   "outputs": [],
   "source": [
    "# Initializing boundary conditions for u_next\n",
    "# The boundary value function of 45*x*(1-x) is applied on the right boundary edge.\n",
    "# At the remaining edges of the boundary u(x)=0."
   ]
  },
  {
   "cell_type": "code",
   "execution_count": 9,
   "metadata": {},
   "outputs": [],
   "source": [
    "u_next[:,GridSize[0]]=numpy.array([45*(i/GridSize[0])*(1-(i/GridSize[0])) for i,x in enumerate(u_next[:,GridSize[0]])])"
   ]
  },
  {
   "cell_type": "code",
   "execution_count": 10,
   "metadata": {},
   "outputs": [],
   "source": [
    "Plots=[]\n",
    "iterations=0\n",
    "error=numpy.amax(numpy.absolute(u_next-u_current))\n",
    "while iterations<100:\n",
    "    iterations = iterations+1\n",
    "    # Average over 4 neighbors (mean value property!)\n",
    "    for x in range(2,GridSize[0]):\n",
    "        for y in range(2,GridSize[1]):\n",
    "            u_next[x,y]=(u_current[x-1,y]+u_current[x+1,y]+u_current[x,y-1]+u_current[x,y+1])/4\n",
    "    # How close to a harmonic function are we now?\n",
    "    error=numpy.amax(numpy.absolute(u_next-u_current))\n",
    "    u_current=u_next.copy()\n",
    "    # store\n",
    "    Plots.append(matrix_plot(u_current,cmap='rainbow',title= 'Iterations: ' + str(iterations) + ', Error: ' + str(round(error,4))))"
   ]
  },
  {
   "cell_type": "code",
   "execution_count": 17,
   "metadata": {
    "scrolled": true
   },
   "outputs": [],
   "source": [
    "a = animate(Plots)"
   ]
  },
  {
   "cell_type": "code",
   "execution_count": 24,
   "metadata": {},
   "outputs": [],
   "source": [
    "a.save('Laplace.gif')"
   ]
  },
  {
   "cell_type": "code",
   "execution_count": null,
   "metadata": {
    "scrolled": true
   },
   "outputs": [],
   "source": [
    "Plots[0].show()"
   ]
  },
  {
   "cell_type": "code",
   "execution_count": null,
   "metadata": {},
   "outputs": [],
   "source": []
  }
 ],
 "metadata": {
  "kernelspec": {
   "display_name": "SageMath 9.1",
   "language": "sage",
   "name": "sagemath"
  },
  "language_info": {
   "codemirror_mode": {
    "name": "ipython",
    "version": 3
   },
   "file_extension": ".py",
   "mimetype": "text/x-python",
   "name": "python",
   "nbconvert_exporter": "python",
   "pygments_lexer": "ipython3",
   "version": "3.8.5"
  }
 },
 "nbformat": 4,
 "nbformat_minor": 2
}
