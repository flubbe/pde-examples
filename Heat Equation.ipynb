{
 "cells": [
  {
   "cell_type": "code",
   "execution_count": 1,
   "metadata": {},
   "outputs": [],
   "source": [
    "# This is a hack-fix for this machine to make ImageMagick available for the animate command below.\n",
    "# os.environ[\"PATH\"]+=\":/usr/local/bin\""
   ]
  },
  {
   "cell_type": "code",
   "execution_count": 2,
   "metadata": {},
   "outputs": [],
   "source": [
    "import numpy"
   ]
  },
  {
   "cell_type": "code",
   "execution_count": 3,
   "metadata": {},
   "outputs": [],
   "source": [
    "M=30"
   ]
  },
  {
   "cell_type": "code",
   "execution_count": 4,
   "metadata": {},
   "outputs": [],
   "source": [
    "# Set up the current and the next grid for computation (i.e., the values of the solution u)"
   ]
  },
  {
   "cell_type": "code",
   "execution_count": 5,
   "metadata": {},
   "outputs": [],
   "source": [
    "u_current=numpy.zeros((M+1, M+1))"
   ]
  },
  {
   "cell_type": "code",
   "execution_count": 6,
   "metadata": {},
   "outputs": [],
   "source": [
    "u_next=numpy.zeros((M+1, M+1))"
   ]
  },
  {
   "cell_type": "code",
   "execution_count": 7,
   "metadata": {},
   "outputs": [],
   "source": [
    "# Initialize initial- and boundary conditions for u_current and u_next.\n",
    "# The boundary value function of 45*x*(1-x) is applied on the right boundary edge.\n",
    "# At the remaining edges of the boundary u(x)=0."
   ]
  },
  {
   "cell_type": "code",
   "execution_count": 8,
   "metadata": {},
   "outputs": [],
   "source": [
    "u_current[:,M]=numpy.array([45*(i/M)*(1-(i/M)) for i,x in enumerate(u_current[:,M])])"
   ]
  },
  {
   "cell_type": "code",
   "execution_count": 9,
   "metadata": {},
   "outputs": [],
   "source": [
    "u_next[:,M]=numpy.array([45*(i/M)*(1-(i/M)) for i,x in enumerate(u_next[:,M])])"
   ]
  },
  {
   "cell_type": "code",
   "execution_count": 10,
   "metadata": {},
   "outputs": [],
   "source": [
    "Plots=[]\n",
    "delta_t=float(1/(8*(M^2))) # <= 1/(4*M^2)\n",
    "t=float(0)\n",
    "Tmax=0.1\n",
    "snapshots=20\n",
    "snapshot_iterations=int(Tmax/(snapshots*delta_t))\n",
    "iterations=1\n",
    "w2=float(delta_t*M^2)\n",
    "w1=float(1-4*w2)\n",
    "while t<Tmax:\n",
    "    iterations = iterations+1\n",
    "    # apply the iteration formula\n",
    "    for x in range(2,M):\n",
    "        for y in range(2,M):\n",
    "            u_next[x,y]=w1*u_current[x,y] + w2*(u_current[x-1,y]+u_current[x+1,y]+u_current[x,y-1]+u_current[x,y+1])\n",
    "    u_current=u_next.copy()\n",
    "    # store\n",
    "    if iterations>snapshot_iterations:\n",
    "        title=text('Time: ' + str(n(t,digits=2)),(0, 0), fontsize=12, axes=False, frame=True, ticks=[[],[]])\n",
    "        Plots.append(matrix_plot(u_current,cmap='rainbow',ticks=[[],[]]).inset(title,pos=(0.25,0.7,0.3,0.1)))\n",
    "        iterations=1\n",
    "    # increase time\n",
    "    t += delta_t"
   ]
  },
  {
   "cell_type": "code",
   "execution_count": null,
   "metadata": {
    "scrolled": true
   },
   "outputs": [],
   "source": [
    "animate(Plots,figsize=6)"
   ]
  },
  {
   "cell_type": "code",
   "execution_count": null,
   "metadata": {},
   "outputs": [],
   "source": []
  }
 ],
 "metadata": {
  "kernelspec": {
   "display_name": "SageMath 9.1",
   "language": "sage",
   "name": "sagemath"
  },
  "language_info": {
   "codemirror_mode": {
    "name": "ipython",
    "version": 3
   },
   "file_extension": ".py",
   "mimetype": "text/x-python",
   "name": "python",
   "nbconvert_exporter": "python",
   "pygments_lexer": "ipython3",
   "version": "3.8.5"
  }
 },
 "nbformat": 4,
 "nbformat_minor": 4
}
